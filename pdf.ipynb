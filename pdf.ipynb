{
 "cells": [
  {
   "cell_type": "markdown",
   "metadata": {},
   "source": [
    "# FIT5196 Data Wrangling Task2 in Assessment 1"
   ]
  },
  {
   "cell_type": "markdown",
   "metadata": {},
   "source": [
    "\n",
    "## Environment: Python 3.6.1 and Jupyter notebook\n",
    "## Libraries used:\n",
    "### pandas (for dataframe)\n",
    "### tabula (for pdf reading)"
   ]
  },
  {
   "cell_type": "markdown",
   "metadata": {},
   "source": [
    "## 1. Import libraries"
   ]
  },
  {
   "cell_type": "code",
   "execution_count": null,
   "metadata": {
    "collapsed": true
   },
   "outputs": [],
   "source": [
    "# importing library as required in assignment\n",
    "import tabula as tb\n",
    "import pandas as pd"
   ]
  },
  {
   "cell_type": "markdown",
   "metadata": {},
   "source": [
    "## 2. Parse health.pdf File"
   ]
  },
  {
   "cell_type": "code",
   "execution_count": null,
   "metadata": {},
   "outputs": [],
   "source": [
    "# read page 1 of pdf file and store in a data frame\n",
    "df1 = tb.read_pdf('health.pdf',pages=1,encoding='ISO-8859-1')\n",
    "df1 = df1[6:]\n",
    "df1"
   ]
  },
  {
   "cell_type": "code",
   "execution_count": null,
   "metadata": {},
   "outputs": [],
   "source": [
    "# read page 2 of pdf file and store in a data frame\n",
    "df2 = tb.read_pdf('health.pdf',pages=2,encoding='ISO-8859-1')\n",
    "df2 = df2[6:]\n",
    "df2"
   ]
  },
  {
   "cell_type": "code",
   "execution_count": null,
   "metadata": {},
   "outputs": [],
   "source": [
    "# read page 3 of pdf file and store in a data frame\n",
    "df3 = tb.read_pdf('health.pdf',pages=3,encoding='ISO-8859-1')\n",
    "df3 = df3[6:]\n",
    "df3"
   ]
  },
  {
   "cell_type": "code",
   "execution_count": null,
   "metadata": {},
   "outputs": [],
   "source": [
    "# read an area of page 4 of pdf file and store in a data frame\n",
    "df4 = tb.read_pdf('health.pdf',pages=4,area=[97.6,38.7,152.8,553.9],encoding='ISO-8859-1')\n",
    "df4 = df4[6:]\n",
    "df4"
   ]
  },
  {
   "cell_type": "code",
   "execution_count": null,
   "metadata": {},
   "outputs": [],
   "source": [
    "# appending the data of the previous four dataframes into a single dataframe df\n",
    "df = df1.append(df2.append(df3.append(df4)))\n",
    "df"
   ]
  },
  {
   "cell_type": "code",
   "execution_count": null,
   "metadata": {
    "collapsed": true
   },
   "outputs": [],
   "source": [
    "# adding country name column from df to a new data frame df_final\n",
    "df_final = df['Unnamed: 0']\n",
    "# drop the country name column from df\n",
    "df = df.drop(['Unnamed: 0'],axis = 1)"
   ]
  },
  {
   "cell_type": "code",
   "execution_count": null,
   "metadata": {},
   "outputs": [],
   "source": [
    "# replace all x with empty strings\n",
    "df.replace(to_replace = ' x', value = '', inplace = True,regex=True)\n",
    "df"
   ]
  },
  {
   "cell_type": "code",
   "execution_count": null,
   "metadata": {
    "collapsed": true
   },
   "outputs": [],
   "source": [
    "# splitting the columns at the spaces and append the splitted columns to df_final\n",
    "for columns in df:\n",
    "    temp = df[columns].str.split(r'[ ]+', expand=True)\n",
    "    df_final = pd.concat([df_final, temp], axis=1, ignore_index=True)"
   ]
  },
  {
   "cell_type": "code",
   "execution_count": null,
   "metadata": {},
   "outputs": [],
   "source": [
    "# set country names column as the index of table dataframe\n",
    "df_final.set_index(0,inplace=True)\n",
    "# set index name as Country Name\n",
    "df_final.index.name = 'Country Name'\n",
    "df_final.head()"
   ]
  },
  {
   "cell_type": "code",
   "execution_count": null,
   "metadata": {},
   "outputs": [],
   "source": [
    "# convert all values of df_final dataframe as numeric, non numeric values set as NAN\n",
    "df_final = df_final.apply(pd.to_numeric, errors='coerce')\n",
    "df_final"
   ]
  },
  {
   "cell_type": "code",
   "execution_count": null,
   "metadata": {},
   "outputs": [],
   "source": [
    "# drop columns where all values are NAN\n",
    "df_final = df_final.dropna(1, how='all')\n",
    "# rename few indexes which got split while file read\n",
    "df_final = df_final.rename(index={'Korea': 'Democratic People\\'s Republic of Korea','Macedonia': 'The former Yugoslav Republic of Macedonia'})\n",
    "# drop rows where all values are NAN\n",
    "df_final = df_final.drop(['Democratic People\\'s Republic of','The former Yugoslav Republic of'])\n",
    "df_final"
   ]
  },
  {
   "cell_type": "code",
   "execution_count": null,
   "metadata": {
    "collapsed": true
   },
   "outputs": [],
   "source": [
    "# set column headers as numbers\n",
    "df_final.columns = list(range(len(df_final.columns)))\n",
    "# write data from df_final data frame to csv file\n",
    "df_final.to_csv('health.csv', sep='\\t', encoding='utf-32')"
   ]
  },
  {
   "cell_type": "markdown",
   "metadata": {},
   "source": [
    "\n",
    "# 3. Summary\n",
    "### In this Assignmnt task, the data from Health pdf file is extracted, parsed as per requirement and saved as a CSV file. "
   ]
  }
 ],
 "metadata": {
  "kernelspec": {
   "display_name": "Python 3",
   "language": "python",
   "name": "python3"
  },
  "language_info": {
   "codemirror_mode": {
    "name": "ipython",
    "version": 3
   },
   "file_extension": ".py",
   "mimetype": "text/x-python",
   "name": "python",
   "nbconvert_exporter": "python",
   "pygments_lexer": "ipython3",
   "version": "3.7.1"
  }
 },
 "nbformat": 4,
 "nbformat_minor": 2
}
