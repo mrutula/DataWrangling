{
 "cells": [
  {
   "cell_type": "markdown",
   "metadata": {},
   "source": [
    "# FIT5196 Data Wrangling Task3 in Assessment 1"
   ]
  },
  {
   "cell_type": "markdown",
   "metadata": {},
   "source": [
    "### Environment: Python 3.6.1 and Jupyter notebook\n",
    "### Libraries used: \n",
    "#### re (for regular expression)"
   ]
  },
  {
   "cell_type": "markdown",
   "metadata": {},
   "source": [
    "## 1. Import libraries"
   ]
  },
  {
   "cell_type": "code",
   "execution_count": null,
   "metadata": {
    "collapsed": true
   },
   "outputs": [],
   "source": [
    "# importing library as required in assignment\n",
    "import re"
   ]
  },
  {
   "cell_type": "markdown",
   "metadata": {},
   "source": [
    "## 2. Parse australian-sport-thesaurus-student.xml File"
   ]
  },
  {
   "cell_type": "code",
   "execution_count": null,
   "metadata": {},
   "outputs": [],
   "source": [
    "# read xml file and store in a list data_list\n",
    "data = open('australian-sport-thesaurus-student.xml', encoding=\"utf8\")\n",
    "data_list = data.readlines()\n",
    "data.close()\n",
    "data_list"
   ]
  },
  {
   "cell_type": "code",
   "execution_count": null,
   "metadata": {},
   "outputs": [],
   "source": [
    "# using regular expression to replace xml tags with json, placing back slash escape where necessary\n",
    "data_list1 = [re.sub('\"', '\\\\\"', d) for d in data_list[2:len(data_list)-1]]\n",
    "data_list1 = [re.sub('&#13;', '', d) for d in data_list1]\n",
    "data_list1 = [re.sub('\\u2022', r'\\u2022', d) for d in data_list1]\n",
    "data_list1 = [re.sub('\\t', r'\\\\t', d) for d in data_list1]\n",
    "data_list1 = [re.sub('</Title>\\\\n', '\"}, ', d) for d in data_list1]\n",
    "data_list1 = [re.sub('</Relationship>\\\\n', '\", ', d) for d in data_list1]\n",
    "data_list1 = [re.sub('\\s*<Title>', '\"Title\": \"', d) for d in data_list1]\n",
    "data_list1 = [re.sub('\\s*<Relationship>', '{\"Relationship\": \"', d) for d in data_list1]\n",
    "data_list1 = [re.sub('\\s*<Description>', '{\"Description\": \"', d) for d in data_list1]\n",
    "data_list1 = [re.sub('</Description>\\\\n', '\", ', d) for d in data_list1]\n",
    "data_list1 = [re.sub('\\s*<RelatedTerms>\\n', '\"RelatedTerms\": [', d) for d in data_list1]\n",
    "data_list1 = [re.sub('\\s*</RelatedTerms>\\n', '], ', d) for d in data_list1]\n",
    "data_list1 = [c for c in data_list1 if 'Term>\\n' not in c]\n",
    "data_list1"
   ]
  },
  {
   "cell_type": "code",
   "execution_count": null,
   "metadata": {},
   "outputs": [],
   "source": [
    "# reverse order of contents inside Related Terms\n",
    "for i in range(len(data_list1)):\n",
    "    if data_list1[i] == '\"RelatedTerms\": [':\n",
    "        j = i + 1\n",
    "        count = 0\n",
    "        while data_list1[j + count] != '], ' and '\"Relationship\":' not in data_list1[j + count]:\n",
    "            data_list1[j + count],data_list1[j+1 + count] = data_list1[j+1 + count],data_list1[j + count]\n",
    "            count += 2       \n",
    "data_list1            "
   ]
  },
  {
   "cell_type": "code",
   "execution_count": null,
   "metadata": {},
   "outputs": [],
   "source": [
    "# place title at the end of related terms\n",
    "data_list2 = []\n",
    "title = ''\n",
    "while len(data_list1) != 0:\n",
    "    element = data_list1.pop(0)    \n",
    "    if '\"Title\":' in element and (len(data_list2) == 0 or '\"Relationship\":' not in data_list2[-1]) :\n",
    "        if len(title) != 0:\n",
    "            data_list2.append(title)\n",
    "        title = element\n",
    "    else:\n",
    "        data_list2.append(element)\n",
    "data_list2.append(title)     \n",
    "data_list2"
   ]
  },
  {
   "cell_type": "code",
   "execution_count": null,
   "metadata": {},
   "outputs": [],
   "source": [
    "# add thesaurus at the beginning of list, join elements of list into a string, fix anomalies to create valid json data\n",
    "final_list = ['{\"thesaurus\": ['] + data_list2 + [']}']\n",
    "final_data = ''.join(final_list)\n",
    "final_data = re.sub(', ]', ']', final_data)\n",
    "final_data = re.sub('\"]', '\"}]', final_data)\n",
    "final_data = re.sub('\", {', '\"}, {', final_data)\n",
    "final_data = re.sub('\\n', r'\\\\n', final_data)\n",
    "final_data"
   ]
  },
  {
   "cell_type": "code",
   "execution_count": null,
   "metadata": {
    "collapsed": true
   },
   "outputs": [],
   "source": [
    "# write string data into sport.dat file\n",
    "with open(\"sport.dat\", \"w\", encoding=\"utf8\") as json_file:\n",
    "    json_file.write(final_data)"
   ]
  },
  {
   "cell_type": "markdown",
   "metadata": {},
   "source": [
    "\n",
    "# 3. Summary\n",
    "### In this Assignmnt task, the data from australian-sport-thesaurus-student.xml file is extracted, parsed as per requirement and saved as a Json file. "
   ]
  }
 ],
 "metadata": {
  "kernelspec": {
   "display_name": "Python 3",
   "language": "python",
   "name": "python3"
  },
  "language_info": {
   "codemirror_mode": {
    "name": "ipython",
    "version": 3
   },
   "file_extension": ".py",
   "mimetype": "text/x-python",
   "name": "python",
   "nbconvert_exporter": "python",
   "pygments_lexer": "ipython3",
   "version": "3.7.1"
  }
 },
 "nbformat": 4,
 "nbformat_minor": 2
}
