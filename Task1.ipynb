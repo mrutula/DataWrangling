{
 "cells": [
  {
   "cell_type": "markdown",
   "metadata": {},
   "source": [
    "# Task 1 Reconstruct the Original Meeting Transcripts "
   ]
  },
  {
   "cell_type": "code",
   "execution_count": 1,
   "metadata": {
    "collapsed": true
   },
   "outputs": [],
   "source": [
    "#importing the library\n",
    "from bs4 import BeautifulSoup as bsoup\n",
    "import re\n",
    "import os\n",
    "import nltk\n",
    "from __future__ import with_statement\n",
    "import os.path\n"
   ]
  },
  {
   "cell_type": "markdown",
   "metadata": {},
   "source": [
    "Storing the file paths"
   ]
  },
  {
   "cell_type": "code",
   "execution_count": 2,
   "metadata": {
    "collapsed": true
   },
   "outputs": [],
   "source": [
    "xml_file_path = \"./topics\""
   ]
  },
  {
   "cell_type": "code",
   "execution_count": 6,
   "metadata": {
    "collapsed": true
   },
   "outputs": [],
   "source": [
    "xml_file_path_word = \"./words\""
   ]
  },
  {
   "cell_type": "code",
   "execution_count": 7,
   "metadata": {
    "collapsed": true
   },
   "outputs": [],
   "source": [
    "xml_file_path_segment = \"./segments\""
   ]
  },
  {
   "cell_type": "markdown",
   "metadata": {},
   "source": [
    "#### Function for obtaing the word "
   ]
  },
  {
   "cell_type": "code",
   "execution_count": 9,
   "metadata": {
    "collapsed": true
   },
   "outputs": [],
   "source": [
    "def word_open(w,x,y):\n",
    "    xfile = os.path.join(xml_file_path_word, w[0]) # joining the path of the word file with the name of the word file\n",
    "    word_file = open(xfile)\n",
    "    xmlSoupword = bsoup(word_file,\"lxml\")\n",
    "    word_file.close()\n",
    "    list_word = []     #list to append the words\n",
    "    check = 0\n",
    "    word_list = xmlSoupword.find_all(text = False)[3:] \n",
    "    if len(y)!= 0:   #checking if there is an end word \n",
    "        for wl in word_list: #obtaing the nite:id\n",
    "            if check == 0 and x[0] == wl.attrs['nite:id']:  #searching for the start word in the nite:id attr\n",
    "                if wl.text != '':                            #checking if its a vocalsound or anything other than a word\n",
    "                    list_word.append(wl.text)                #if not true then append it in a list\n",
    "                seg_return = segmenting(w,[wl.attrs['nite:id']])     #calling the segmenting function\n",
    "                if seg_return != 0 and  len(list_word) > 0:         #checking if a segment is required and appending \n",
    "                    list_word.append(seg_return)\n",
    "                check = 1\n",
    "                continue\n",
    "            elif check == 1 and y[0] not in wl.attrs['nite:id']:      #see if the start word is found and last word isnt found\n",
    "                if wl.text != '':                                    #again to check if its anything other than a word\n",
    "                    list_word.append(wl.text)\n",
    "                seg_return = segmenting(w,[wl.attrs['nite:id']])\n",
    "                if seg_return != 0 and len(list_word) != 0 and   list_word[-1] != '\\n': \n",
    "                    list_word.append(seg_return)\n",
    "                        \n",
    "            elif check == 1 and y[0] in wl.attrs['nite:id']:     #checking if the last word is found\n",
    "                if wl.text != '':                                 # appending it to the list of words\n",
    "                    list_word.append(wl.text)                            \n",
    "                seg_return = segmenting(w,[wl.attrs['nite:id']])\n",
    "                if seg_return != 0 and len(list_word) != 0 and  list_word[-1] != '\\n':\n",
    "                    list_word.append(seg_return)\n",
    "                return list_word                      #returning the list\n",
    "\n",
    "    elif len(y) == 0:                                   #if there is no end word then this section gets executed\n",
    "        for wl in word_list:\n",
    "            if x[0] == wl.attrs['nite:id']:                  #checking if teh start word is present in the attribute of the nite:id\n",
    "                if wl.text != '':\n",
    "                    list_word.append(wl.text)\n",
    "                seg_return = segmenting(w,[wl.attrs['nite:id']])\n",
    "                if seg_return!= 0 and  len(list_word) > 0:\n",
    "                    list_word.append(seg_return)\n",
    "                \n",
    "                return list_word\n"
   ]
  },
  {
   "cell_type": "code",
   "execution_count": 10,
   "metadata": {
    "collapsed": true
   },
   "outputs": [],
   "source": [
    "def segmenting(w,y):                                     #function for segmenting\n",
    "    w_file = w[0].replace(\"words\",\"segments\")                  #opening the segment file for a particular\n",
    "    xfile = os.path.join(xml_file_path_segment, w_file)         \n",
    "    seg_file = open(xfile)\n",
    "    xmlSoupseg = bsoup(seg_file,\"lxml\")\n",
    "    seg_file.close()\n",
    "    seg_list = xmlSoupseg.find_all(\"segment\",text=False)\n",
    "    for s in seg_list:                       #taking each nite child\n",
    "\n",
    "        nite = s.find(\"nite:child\",href = True, text = False) #reading the nite child\n",
    "        href_text = nite.get('href')                 #getting the href\n",
    "\n",
    "        doc_name = re.findall(r'([\\w.]+)#',href_text)   #obtaining the word file name start and end segment\n",
    "        start = re.findall(r'#(?:id)\\(([\\w.]+)\\)',href_text)\n",
    "        end = re.findall(r'(?:\\.\\.id)\\(([\\w.]+)\\)',href_text)\n",
    "        if len(end)!= 0:          #ensuring the end word is present\n",
    "\n",
    "\n",
    "            if y[0] == end[0]:      #checking the obtained word in the end of the segment if present returns '\\n'\n",
    "                return \"\\n\"\n",
    "\n",
    "\n",
    "        elif len(end) == 0:        #if there is only one word in segment\n",
    "\n",
    "            if y[0] == start[0]:   #checking the obtained word in the start word\n",
    "                return \"\\n\"\n",
    "\n",
    "\n",
    "    return 0     #if the word isnt an end of a segment returns a 0\n",
    "\n"
   ]
  },
  {
   "cell_type": "code",
   "execution_count": 15,
   "metadata": {},
   "outputs": [],
   "source": [
    "save_path = './txt_files'\n",
    "for xfile in os.listdir(xml_file_path): \n",
    "    xfile = os.path.join(xml_file_path, xfile)\n",
    "    if os.path.isfile(xfile) and xfile.endswith('.xml'):   #opening each file\n",
    "        \n",
    "        a = open(xfile)\n",
    "        xmlSoup = bsoup(a,\"lxml\")\n",
    "        a.close()\n",
    "        star = [\"**********\\n\"]      #two set of stars\n",
    "        star_space =[\"\\n**********\\n\"]\n",
    "        topic = xmlSoup.find_all(\"topic\")       #finding all topic files\n",
    "        new_list = []                 #list to store the words\n",
    "        nite_list = []                #temporary list to store the topics read\n",
    "        for t in topic:                    #obtaing each topics\n",
    "            nite = t.find_all(\"nite:child\",href = True,text = False)\n",
    "            word_new_list = []   #list for each sub topics\n",
    "            if not(set(nite).issubset(set(nite_list))):    #checking if the topic read hasnt been already read\n",
    "                nite_list.extend(nite)     \n",
    "                for n in nite:      #obtaing each nite:child of teh topic\n",
    "                    href_text = n.get('href')\n",
    "                    doc_name = re.findall(r'([\\w.]+)#',href_text)    #obtaining the word file name start and end word\n",
    "                    start = re.findall(r'#(?:id)\\(([\\w.]+)\\)',href_text)\n",
    "                    end = re.findall(r'(?:\\.\\.id)\\(([\\w.]+)\\)',href_text)\n",
    "                    word_new_list.extend(word_open(doc_name,start,end))    #appending the list of words into a sublist\n",
    "                if word_new_list[-1] == '\\n':       #checking if there is '\\n' in the end of list or not\n",
    "                    word_new_list.extend(star)\n",
    "                elif  word_new_list[-1] != '\\n':\n",
    "                    word_new_list.extend(star_space)\n",
    "                new_list.append(word_new_list)\n",
    "        new_list[-1][-1] = new_list[-1][-1].strip()  #removing the space in the end\n",
    "        \n",
    "        # writing the words in a file   \n",
    "        file_name = re.findall(r'\\\\(.+).[t]',xfile)\n",
    "        completeName = os.path.join(save_path, file_name[0] +\".txt\")\n",
    "        \n",
    "        with open(completeName, 'w') as f:\n",
    "            for _list in new_list:\n",
    "                string1  = ' '.join([_string for _string in _list])  \n",
    "                \n",
    "                f.write(' ' + string1.replace(\"\\n **********\",\"\\n**********\"))\n",
    "        \n",
    "       \n",
    "        "
   ]
  },
  {
   "cell_type": "markdown",
   "metadata": {},
   "source": []
  }
 ],
 "metadata": {
  "kernelspec": {
   "display_name": "Python 3",
   "language": "python",
   "name": "python3"
  },
  "language_info": {
   "codemirror_mode": {
    "name": "ipython",
    "version": 3
   },
   "file_extension": ".py",
   "mimetype": "text/x-python",
   "name": "python",
   "nbconvert_exporter": "python",
   "pygments_lexer": "ipython3",
   "version": "3.7.1"
  }
 },
 "nbformat": 4,
 "nbformat_minor": 2
}
