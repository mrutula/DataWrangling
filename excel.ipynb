{
 "cells": [
  {
   "cell_type": "markdown",
   "metadata": {},
   "source": [
    "# FIT5196 Data Wrangling Task1 in Assessment 1"
   ]
  },
  {
   "cell_type": "markdown",
   "metadata": {},
   "source": [
    "### Environment: Python 3.6.1 and Jupyter notebook\n",
    "### Libraries used: \n",
    "#### pandas (for dataframe)"
   ]
  },
  {
   "cell_type": "markdown",
   "metadata": {},
   "source": [
    "## 1. Import libraries"
   ]
  },
  {
   "cell_type": "code",
   "execution_count": null,
   "metadata": {
    "collapsed": true
   },
   "outputs": [],
   "source": [
    "# importing library as required in assignment\n",
    "import pandas as pd "
   ]
  },
  {
   "cell_type": "markdown",
   "metadata": {},
   "source": [
    "# 2. Parse basic_indicators.xlsx File"
   ]
  },
  {
   "cell_type": "code",
   "execution_count": null,
   "metadata": {},
   "outputs": [],
   "source": [
    "# read specific sheet of excel file and store in data frame table\n",
    "table = pd.read_excel('basic_indicators.xlsx',sheetname = 'Basic Indicators') \n",
    "# exclude unwanted rows from table\n",
    "table = table[4:206]\n",
    "table"
   ]
  },
  {
   "cell_type": "code",
   "execution_count": null,
   "metadata": {},
   "outputs": [],
   "source": [
    "# set country names column as the index of table dataframe\n",
    "table.set_index('TABLE 1. BASIC INDICATORS', inplace = True)\n",
    "table"
   ]
  },
  {
   "cell_type": "code",
   "execution_count": null,
   "metadata": {},
   "outputs": [],
   "source": [
    "# convert all values of table dataframe as numeric, non numeric values set as NAN\n",
    "table = table.apply(pd.to_numeric, errors='coerce')\n",
    "# drop columns where all values are NAN\n",
    "table=table.dropna(axis=1,how='all')\n",
    "table"
   ]
  },
  {
   "cell_type": "code",
   "execution_count": null,
   "metadata": {},
   "outputs": [],
   "source": [
    "# set column headers as numbers\n",
    "table.columns = list(range(len(table.columns)))\n",
    "# set index name as Country Name\n",
    "table.index.name = 'Country Name'\n",
    "# round all numeric values of table\n",
    "table = table.round()\n",
    "table"
   ]
  },
  {
   "cell_type": "code",
   "execution_count": null,
   "metadata": {
    "collapsed": true
   },
   "outputs": [],
   "source": [
    "# write data from table data frame to csv file\n",
    "table.to_csv('basic_indicators.csv', sep='\\t', encoding='utf-32')"
   ]
  },
  {
   "cell_type": "markdown",
   "metadata": {},
   "source": [
    "\n",
    "# 3. Summary\n",
    "### In this Assignmnt task, the Basic Indicators table from the Excel file, basic_indicators.xlsx is extracted, parsed as per requirement and saved as a CSV file. "
   ]
  }
 ],
 "metadata": {
  "kernelspec": {
   "display_name": "Python 3",
   "language": "python",
   "name": "python3"
  },
  "language_info": {
   "codemirror_mode": {
    "name": "ipython",
    "version": 3
   },
   "file_extension": ".py",
   "mimetype": "text/x-python",
   "name": "python",
   "nbconvert_exporter": "python",
   "pygments_lexer": "ipython3",
   "version": "3.7.1"
  }
 },
 "nbformat": 4,
 "nbformat_minor": 2
}
